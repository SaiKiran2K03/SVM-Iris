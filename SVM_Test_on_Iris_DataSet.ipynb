{
  "nbformat": 4,
  "nbformat_minor": 0,
  "metadata": {
    "colab": {
      "provenance": []
    },
    "kernelspec": {
      "name": "python3",
      "display_name": "Python 3"
    }
  },
  "cells": [
    {
      "cell_type": "code",
      "metadata": {
        "id": "H6IJkZqGSbt7",
        "colab": {
          "base_uri": "https://localhost:8080/"
        },
        "outputId": "ffbe2f45-6319-4abe-b119-252f19c98e10"
      },
      "source": [
        "from google.colab import drive\n",
        "drive.mount('/content/drive')"
      ],
      "execution_count": null,
      "outputs": [
        {
          "output_type": "stream",
          "name": "stdout",
          "text": [
            "Mounted at /content/drive\n"
          ]
        }
      ]
    },
    {
      "cell_type": "code",
      "metadata": {
        "id": "pNhYeLSIqucN"
      },
      "source": [
        "#Importing data handling libraries\n",
        "\n",
        "import pandas as pd\n",
        "import numpy as np"
      ],
      "execution_count": null,
      "outputs": []
    },
    {
      "cell_type": "code",
      "metadata": {
        "id": "LR-F9eDo9z5I"
      },
      "source": [
        "np.set_printoptions(suppress=True, precision=3)"
      ],
      "execution_count": null,
      "outputs": []
    },
    {
      "cell_type": "code",
      "metadata": {
        "id": "2CjMIUcfrdjW",
        "colab": {
          "base_uri": "https://localhost:8080/"
        },
        "outputId": "240393d0-4811-4be5-921e-538e243e7f77"
      },
      "source": [
        "#Accessing the dataset from Google Drive\n",
        "\n",
        "path=\"/content/drive/MyDrive/ML-2022/iris.csv\"\n",
        "iris_dataset_frame = pd.read_csv(path, header=None)\n",
        "print(\"Iris dataset dataframe looks like \\n\", iris_dataset_frame)"
      ],
      "execution_count": null,
      "outputs": [
        {
          "output_type": "stream",
          "name": "stdout",
          "text": [
            "Iris dataset dataframe looks like \n",
            "                 0            1             2            3          4\n",
            "0    sepal.length  sepal.width  petal.length  petal.width    variety\n",
            "1             5.1          3.5           1.4           .2     Setosa\n",
            "2             4.9            3           1.4           .2     Setosa\n",
            "3             4.7          3.2           1.3           .2     Setosa\n",
            "4             4.6          3.1           1.5           .2     Setosa\n",
            "..            ...          ...           ...          ...        ...\n",
            "146           6.7            3           5.2          2.3  Virginica\n",
            "147           6.3          2.5             5          1.9  Virginica\n",
            "148           6.5            3           5.2            2  Virginica\n",
            "149           6.2          3.4           5.4          2.3  Virginica\n",
            "150           5.9            3           5.1          1.8  Virginica\n",
            "\n",
            "[151 rows x 5 columns]\n"
          ]
        }
      ]
    },
    {
      "cell_type": "code",
      "metadata": {
        "id": "_t4h1O6fnR7E",
        "colab": {
          "base_uri": "https://localhost:8080/"
        },
        "outputId": "1bd3fa35-cbb7-41e4-fd15-475d6e073120"
      },
      "source": [
        "#Transforming the dataframe into numpy matrices\n",
        "\n",
        "iris_dataset = iris_dataset_frame.to_numpy()\n",
        "print(\"Iris Dataset: \\n\", iris_dataset, \"\\n\")\n",
        "print(\"np.shape(iris_dataset): \", iris_dataset.shape, \"\\n\")"
      ],
      "execution_count": null,
      "outputs": [
        {
          "output_type": "stream",
          "name": "stdout",
          "text": [
            "Iris Dataset: \n",
            " [['sepal.length' 'sepal.width' 'petal.length' 'petal.width' 'variety']\n",
            " ['5.1' '3.5' '1.4' '.2' 'Setosa']\n",
            " ['4.9' '3' '1.4' '.2' 'Setosa']\n",
            " ['4.7' '3.2' '1.3' '.2' 'Setosa']\n",
            " ['4.6' '3.1' '1.5' '.2' 'Setosa']\n",
            " ['5' '3.6' '1.4' '.2' 'Setosa']\n",
            " ['5.4' '3.9' '1.7' '.4' 'Setosa']\n",
            " ['4.6' '3.4' '1.4' '.3' 'Setosa']\n",
            " ['5' '3.4' '1.5' '.2' 'Setosa']\n",
            " ['4.4' '2.9' '1.4' '.2' 'Setosa']\n",
            " ['4.9' '3.1' '1.5' '.1' 'Setosa']\n",
            " ['5.4' '3.7' '1.5' '.2' 'Setosa']\n",
            " ['4.8' '3.4' '1.6' '.2' 'Setosa']\n",
            " ['4.8' '3' '1.4' '.1' 'Setosa']\n",
            " ['4.3' '3' '1.1' '.1' 'Setosa']\n",
            " ['5.8' '4' '1.2' '.2' 'Setosa']\n",
            " ['5.7' '4.4' '1.5' '.4' 'Setosa']\n",
            " ['5.4' '3.9' '1.3' '.4' 'Setosa']\n",
            " ['5.1' '3.5' '1.4' '.3' 'Setosa']\n",
            " ['5.7' '3.8' '1.7' '.3' 'Setosa']\n",
            " ['5.1' '3.8' '1.5' '.3' 'Setosa']\n",
            " ['5.4' '3.4' '1.7' '.2' 'Setosa']\n",
            " ['5.1' '3.7' '1.5' '.4' 'Setosa']\n",
            " ['4.6' '3.6' '1' '.2' 'Setosa']\n",
            " ['5.1' '3.3' '1.7' '.5' 'Setosa']\n",
            " ['4.8' '3.4' '1.9' '.2' 'Setosa']\n",
            " ['5' '3' '1.6' '.2' 'Setosa']\n",
            " ['5' '3.4' '1.6' '.4' 'Setosa']\n",
            " ['5.2' '3.5' '1.5' '.2' 'Setosa']\n",
            " ['5.2' '3.4' '1.4' '.2' 'Setosa']\n",
            " ['4.7' '3.2' '1.6' '.2' 'Setosa']\n",
            " ['4.8' '3.1' '1.6' '.2' 'Setosa']\n",
            " ['5.4' '3.4' '1.5' '.4' 'Setosa']\n",
            " ['5.2' '4.1' '1.5' '.1' 'Setosa']\n",
            " ['5.5' '4.2' '1.4' '.2' 'Setosa']\n",
            " ['4.9' '3.1' '1.5' '.2' 'Setosa']\n",
            " ['5' '3.2' '1.2' '.2' 'Setosa']\n",
            " ['5.5' '3.5' '1.3' '.2' 'Setosa']\n",
            " ['4.9' '3.6' '1.4' '.1' 'Setosa']\n",
            " ['4.4' '3' '1.3' '.2' 'Setosa']\n",
            " ['5.1' '3.4' '1.5' '.2' 'Setosa']\n",
            " ['5' '3.5' '1.3' '.3' 'Setosa']\n",
            " ['4.5' '2.3' '1.3' '.3' 'Setosa']\n",
            " ['4.4' '3.2' '1.3' '.2' 'Setosa']\n",
            " ['5' '3.5' '1.6' '.6' 'Setosa']\n",
            " ['5.1' '3.8' '1.9' '.4' 'Setosa']\n",
            " ['4.8' '3' '1.4' '.3' 'Setosa']\n",
            " ['5.1' '3.8' '1.6' '.2' 'Setosa']\n",
            " ['4.6' '3.2' '1.4' '.2' 'Setosa']\n",
            " ['5.3' '3.7' '1.5' '.2' 'Setosa']\n",
            " ['5' '3.3' '1.4' '.2' 'Setosa']\n",
            " ['7' '3.2' '4.7' '1.4' 'Versicolor']\n",
            " ['6.4' '3.2' '4.5' '1.5' 'Versicolor']\n",
            " ['6.9' '3.1' '4.9' '1.5' 'Versicolor']\n",
            " ['5.5' '2.3' '4' '1.3' 'Versicolor']\n",
            " ['6.5' '2.8' '4.6' '1.5' 'Versicolor']\n",
            " ['5.7' '2.8' '4.5' '1.3' 'Versicolor']\n",
            " ['6.3' '3.3' '4.7' '1.6' 'Versicolor']\n",
            " ['4.9' '2.4' '3.3' '1' 'Versicolor']\n",
            " ['6.6' '2.9' '4.6' '1.3' 'Versicolor']\n",
            " ['5.2' '2.7' '3.9' '1.4' 'Versicolor']\n",
            " ['5' '2' '3.5' '1' 'Versicolor']\n",
            " ['5.9' '3' '4.2' '1.5' 'Versicolor']\n",
            " ['6' '2.2' '4' '1' 'Versicolor']\n",
            " ['6.1' '2.9' '4.7' '1.4' 'Versicolor']\n",
            " ['5.6' '2.9' '3.6' '1.3' 'Versicolor']\n",
            " ['6.7' '3.1' '4.4' '1.4' 'Versicolor']\n",
            " ['5.6' '3' '4.5' '1.5' 'Versicolor']\n",
            " ['5.8' '2.7' '4.1' '1' 'Versicolor']\n",
            " ['6.2' '2.2' '4.5' '1.5' 'Versicolor']\n",
            " ['5.6' '2.5' '3.9' '1.1' 'Versicolor']\n",
            " ['5.9' '3.2' '4.8' '1.8' 'Versicolor']\n",
            " ['6.1' '2.8' '4' '1.3' 'Versicolor']\n",
            " ['6.3' '2.5' '4.9' '1.5' 'Versicolor']\n",
            " ['6.1' '2.8' '4.7' '1.2' 'Versicolor']\n",
            " ['6.4' '2.9' '4.3' '1.3' 'Versicolor']\n",
            " ['6.6' '3' '4.4' '1.4' 'Versicolor']\n",
            " ['6.8' '2.8' '4.8' '1.4' 'Versicolor']\n",
            " ['6.7' '3' '5' '1.7' 'Versicolor']\n",
            " ['6' '2.9' '4.5' '1.5' 'Versicolor']\n",
            " ['5.7' '2.6' '3.5' '1' 'Versicolor']\n",
            " ['5.5' '2.4' '3.8' '1.1' 'Versicolor']\n",
            " ['5.5' '2.4' '3.7' '1' 'Versicolor']\n",
            " ['5.8' '2.7' '3.9' '1.2' 'Versicolor']\n",
            " ['6' '2.7' '5.1' '1.6' 'Versicolor']\n",
            " ['5.4' '3' '4.5' '1.5' 'Versicolor']\n",
            " ['6' '3.4' '4.5' '1.6' 'Versicolor']\n",
            " ['6.7' '3.1' '4.7' '1.5' 'Versicolor']\n",
            " ['6.3' '2.3' '4.4' '1.3' 'Versicolor']\n",
            " ['5.6' '3' '4.1' '1.3' 'Versicolor']\n",
            " ['5.5' '2.5' '4' '1.3' 'Versicolor']\n",
            " ['5.5' '2.6' '4.4' '1.2' 'Versicolor']\n",
            " ['6.1' '3' '4.6' '1.4' 'Versicolor']\n",
            " ['5.8' '2.6' '4' '1.2' 'Versicolor']\n",
            " ['5' '2.3' '3.3' '1' 'Versicolor']\n",
            " ['5.6' '2.7' '4.2' '1.3' 'Versicolor']\n",
            " ['5.7' '3' '4.2' '1.2' 'Versicolor']\n",
            " ['5.7' '2.9' '4.2' '1.3' 'Versicolor']\n",
            " ['6.2' '2.9' '4.3' '1.3' 'Versicolor']\n",
            " ['5.1' '2.5' '3' '1.1' 'Versicolor']\n",
            " ['5.7' '2.8' '4.1' '1.3' 'Versicolor']\n",
            " ['6.3' '3.3' '6' '2.5' 'Virginica']\n",
            " ['5.8' '2.7' '5.1' '1.9' 'Virginica']\n",
            " ['7.1' '3' '5.9' '2.1' 'Virginica']\n",
            " ['6.3' '2.9' '5.6' '1.8' 'Virginica']\n",
            " ['6.5' '3' '5.8' '2.2' 'Virginica']\n",
            " ['7.6' '3' '6.6' '2.1' 'Virginica']\n",
            " ['4.9' '2.5' '4.5' '1.7' 'Virginica']\n",
            " ['7.3' '2.9' '6.3' '1.8' 'Virginica']\n",
            " ['6.7' '2.5' '5.8' '1.8' 'Virginica']\n",
            " ['7.2' '3.6' '6.1' '2.5' 'Virginica']\n",
            " ['6.5' '3.2' '5.1' '2' 'Virginica']\n",
            " ['6.4' '2.7' '5.3' '1.9' 'Virginica']\n",
            " ['6.8' '3' '5.5' '2.1' 'Virginica']\n",
            " ['5.7' '2.5' '5' '2' 'Virginica']\n",
            " ['5.8' '2.8' '5.1' '2.4' 'Virginica']\n",
            " ['6.4' '3.2' '5.3' '2.3' 'Virginica']\n",
            " ['6.5' '3' '5.5' '1.8' 'Virginica']\n",
            " ['7.7' '3.8' '6.7' '2.2' 'Virginica']\n",
            " ['7.7' '2.6' '6.9' '2.3' 'Virginica']\n",
            " ['6' '2.2' '5' '1.5' 'Virginica']\n",
            " ['6.9' '3.2' '5.7' '2.3' 'Virginica']\n",
            " ['5.6' '2.8' '4.9' '2' 'Virginica']\n",
            " ['7.7' '2.8' '6.7' '2' 'Virginica']\n",
            " ['6.3' '2.7' '4.9' '1.8' 'Virginica']\n",
            " ['6.7' '3.3' '5.7' '2.1' 'Virginica']\n",
            " ['7.2' '3.2' '6' '1.8' 'Virginica']\n",
            " ['6.2' '2.8' '4.8' '1.8' 'Virginica']\n",
            " ['6.1' '3' '4.9' '1.8' 'Virginica']\n",
            " ['6.4' '2.8' '5.6' '2.1' 'Virginica']\n",
            " ['7.2' '3' '5.8' '1.6' 'Virginica']\n",
            " ['7.4' '2.8' '6.1' '1.9' 'Virginica']\n",
            " ['7.9' '3.8' '6.4' '2' 'Virginica']\n",
            " ['6.4' '2.8' '5.6' '2.2' 'Virginica']\n",
            " ['6.3' '2.8' '5.1' '1.5' 'Virginica']\n",
            " ['6.1' '2.6' '5.6' '1.4' 'Virginica']\n",
            " ['7.7' '3' '6.1' '2.3' 'Virginica']\n",
            " ['6.3' '3.4' '5.6' '2.4' 'Virginica']\n",
            " ['6.4' '3.1' '5.5' '1.8' 'Virginica']\n",
            " ['6' '3' '4.8' '1.8' 'Virginica']\n",
            " ['6.9' '3.1' '5.4' '2.1' 'Virginica']\n",
            " ['6.7' '3.1' '5.6' '2.4' 'Virginica']\n",
            " ['6.9' '3.1' '5.1' '2.3' 'Virginica']\n",
            " ['5.8' '2.7' '5.1' '1.9' 'Virginica']\n",
            " ['6.8' '3.2' '5.9' '2.3' 'Virginica']\n",
            " ['6.7' '3.3' '5.7' '2.5' 'Virginica']\n",
            " ['6.7' '3' '5.2' '2.3' 'Virginica']\n",
            " ['6.3' '2.5' '5' '1.9' 'Virginica']\n",
            " ['6.5' '3' '5.2' '2' 'Virginica']\n",
            " ['6.2' '3.4' '5.4' '2.3' 'Virginica']\n",
            " ['5.9' '3' '5.1' '1.8' 'Virginica']] \n",
            "\n",
            "np.shape(iris_dataset):  (151, 5) \n",
            "\n"
          ]
        }
      ]
    },
    {
      "cell_type": "code",
      "metadata": {
        "id": "ubYthJJvnpbX",
        "colab": {
          "base_uri": "https://localhost:8080/"
        },
        "outputId": "881be62d-52a4-4a35-fbcd-9f7324171bf1"
      },
      "source": [
        "#Separating the features from labels in the dataset\n",
        "\n",
        "iris_dataset_features = iris_dataset[1:,0:4]\n",
        "iris_dataset_labels = iris_dataset[1:,4]\n",
        "print(\"np.shape(iris_dataset_features): \", np.shape(iris_dataset_features), \"\\n\")\n",
        "print(\"np.shape(iris_dataset_labels): \", np.shape(iris_dataset_labels))"
      ],
      "execution_count": null,
      "outputs": [
        {
          "output_type": "stream",
          "name": "stdout",
          "text": [
            "np.shape(iris_dataset_features):  (150, 4) \n",
            "\n",
            "np.shape(iris_dataset_labels):  (150,)\n"
          ]
        }
      ]
    },
    {
      "cell_type": "code",
      "metadata": {
        "id": "el8RETEB7mNc"
      },
      "source": [
        "#Perform train-test split on the dataset\n",
        "\n",
        "from sklearn.model_selection import train_test_split\n",
        "x_train, x_test, y_train, y_test = train_test_split(iris_dataset_features, iris_dataset_labels, test_size=0.25, random_state=42)"
      ],
      "execution_count": null,
      "outputs": []
    },
    {
      "cell_type": "code",
      "metadata": {
        "id": "gvId8SkGptXH",
        "colab": {
          "base_uri": "https://localhost:8080/"
        },
        "outputId": "20b57b75-e266-40ca-c9f5-c420551aaf0a"
      },
      "source": [
        "#Getting the training data characteristics\n",
        "\n",
        "print(\"x_train: \\n\", x_train, \"\\n\")\n",
        "print(\"np.shape(x_train): \", np.shape(x_train), \"\\n\")\n",
        "print(\"y_train: \\n\", y_train, \"\\n\")\n",
        "print(\"np.shape(y_train)\", np.shape(y_train), \"\\n\")"
      ],
      "execution_count": null,
      "outputs": [
        {
          "output_type": "stream",
          "name": "stdout",
          "text": [
            "x_train: \n",
            " [['5' '3.6' '1.4' '.2']\n",
            " ['5.2' '4.1' '1.5' '.1']\n",
            " ['5.8' '2.7' '5.1' '1.9']\n",
            " ['6' '3.4' '4.5' '1.6']\n",
            " ['6.7' '3.1' '4.7' '1.5']\n",
            " ['5.4' '3.9' '1.3' '.4']\n",
            " ['5.4' '3.7' '1.5' '.2']\n",
            " ['5.5' '2.4' '3.7' '1']\n",
            " ['6.3' '2.8' '5.1' '1.5']\n",
            " ['6.4' '3.1' '5.5' '1.8']\n",
            " ['6.6' '3' '4.4' '1.4']\n",
            " ['7.2' '3.6' '6.1' '2.5']\n",
            " ['5.7' '2.9' '4.2' '1.3']\n",
            " ['7.6' '3' '6.6' '2.1']\n",
            " ['5.6' '3' '4.5' '1.5']\n",
            " ['5.1' '3.5' '1.4' '.2']\n",
            " ['7.7' '2.8' '6.7' '2']\n",
            " ['5.8' '2.7' '4.1' '1']\n",
            " ['5.2' '3.4' '1.4' '.2']\n",
            " ['5' '3.5' '1.3' '.3']\n",
            " ['5.1' '3.8' '1.9' '.4']\n",
            " ['5' '2' '3.5' '1']\n",
            " ['6.3' '2.7' '4.9' '1.8']\n",
            " ['4.8' '3.4' '1.9' '.2']\n",
            " ['5' '3' '1.6' '.2']\n",
            " ['5.1' '3.3' '1.7' '.5']\n",
            " ['5.6' '2.7' '4.2' '1.3']\n",
            " ['5.1' '3.4' '1.5' '.2']\n",
            " ['5.7' '3' '4.2' '1.2']\n",
            " ['7.7' '3.8' '6.7' '2.2']\n",
            " ['4.6' '3.2' '1.4' '.2']\n",
            " ['6.2' '2.9' '4.3' '1.3']\n",
            " ['5.7' '2.5' '5' '2']\n",
            " ['5.5' '4.2' '1.4' '.2']\n",
            " ['6' '3' '4.8' '1.8']\n",
            " ['5.8' '2.7' '5.1' '1.9']\n",
            " ['6' '2.2' '4' '1']\n",
            " ['5.4' '3' '4.5' '1.5']\n",
            " ['6.2' '3.4' '5.4' '2.3']\n",
            " ['5.5' '2.3' '4' '1.3']\n",
            " ['5.4' '3.9' '1.7' '.4']\n",
            " ['5' '2.3' '3.3' '1']\n",
            " ['6.4' '2.7' '5.3' '1.9']\n",
            " ['5' '3.3' '1.4' '.2']\n",
            " ['5' '3.2' '1.2' '.2']\n",
            " ['5.5' '2.4' '3.8' '1.1']\n",
            " ['6.7' '3' '5' '1.7']\n",
            " ['4.9' '3.1' '1.5' '.2']\n",
            " ['5.8' '2.8' '5.1' '2.4']\n",
            " ['5' '3.4' '1.5' '.2']\n",
            " ['5' '3.5' '1.6' '.6']\n",
            " ['5.9' '3.2' '4.8' '1.8']\n",
            " ['5.1' '2.5' '3' '1.1']\n",
            " ['6.9' '3.2' '5.7' '2.3']\n",
            " ['6' '2.7' '5.1' '1.6']\n",
            " ['6.1' '2.6' '5.6' '1.4']\n",
            " ['7.7' '3' '6.1' '2.3']\n",
            " ['5.5' '2.5' '4' '1.3']\n",
            " ['4.4' '2.9' '1.4' '.2']\n",
            " ['4.3' '3' '1.1' '.1']\n",
            " ['6' '2.2' '5' '1.5']\n",
            " ['7.2' '3.2' '6' '1.8']\n",
            " ['4.6' '3.1' '1.5' '.2']\n",
            " ['5.1' '3.5' '1.4' '.3']\n",
            " ['4.4' '3' '1.3' '.2']\n",
            " ['6.3' '2.5' '4.9' '1.5']\n",
            " ['6.3' '3.4' '5.6' '2.4']\n",
            " ['4.6' '3.4' '1.4' '.3']\n",
            " ['6.8' '3' '5.5' '2.1']\n",
            " ['6.3' '3.3' '6' '2.5']\n",
            " ['4.7' '3.2' '1.3' '.2']\n",
            " ['6.1' '2.9' '4.7' '1.4']\n",
            " ['6.5' '2.8' '4.6' '1.5']\n",
            " ['6.2' '2.8' '4.8' '1.8']\n",
            " ['7' '3.2' '4.7' '1.4']\n",
            " ['6.4' '3.2' '5.3' '2.3']\n",
            " ['5.1' '3.8' '1.6' '.2']\n",
            " ['6.9' '3.1' '5.4' '2.1']\n",
            " ['5.9' '3' '4.2' '1.5']\n",
            " ['6.5' '3' '5.2' '2']\n",
            " ['5.7' '2.6' '3.5' '1']\n",
            " ['5.2' '2.7' '3.9' '1.4']\n",
            " ['6.1' '3' '4.6' '1.4']\n",
            " ['4.5' '2.3' '1.3' '.3']\n",
            " ['6.6' '2.9' '4.6' '1.3']\n",
            " ['5.5' '2.6' '4.4' '1.2']\n",
            " ['5.3' '3.7' '1.5' '.2']\n",
            " ['5.6' '3' '4.1' '1.3']\n",
            " ['7.3' '2.9' '6.3' '1.8']\n",
            " ['6.7' '3.3' '5.7' '2.1']\n",
            " ['5.1' '3.7' '1.5' '.4']\n",
            " ['4.9' '2.4' '3.3' '1']\n",
            " ['6.7' '3.3' '5.7' '2.5']\n",
            " ['7.2' '3' '5.8' '1.6']\n",
            " ['4.9' '3.6' '1.4' '.1']\n",
            " ['6.7' '3.1' '5.6' '2.4']\n",
            " ['4.9' '3' '1.4' '.2']\n",
            " ['6.9' '3.1' '4.9' '1.5']\n",
            " ['7.4' '2.8' '6.1' '1.9']\n",
            " ['6.3' '2.9' '5.6' '1.8']\n",
            " ['5.7' '2.8' '4.1' '1.3']\n",
            " ['6.5' '3' '5.5' '1.8']\n",
            " ['6.3' '2.3' '4.4' '1.3']\n",
            " ['6.4' '2.9' '4.3' '1.3']\n",
            " ['5.6' '2.8' '4.9' '2']\n",
            " ['5.9' '3' '5.1' '1.8']\n",
            " ['5.4' '3.4' '1.7' '.2']\n",
            " ['6.1' '2.8' '4' '1.3']\n",
            " ['4.9' '2.5' '4.5' '1.7']\n",
            " ['5.8' '4' '1.2' '.2']\n",
            " ['5.8' '2.6' '4' '1.2']\n",
            " ['7.1' '3' '5.9' '2.1']] \n",
            "\n",
            "np.shape(x_train):  (112, 4) \n",
            "\n",
            "y_train: \n",
            " ['Setosa' 'Setosa' 'Virginica' 'Versicolor' 'Versicolor' 'Setosa' 'Setosa'\n",
            " 'Versicolor' 'Virginica' 'Virginica' 'Versicolor' 'Virginica'\n",
            " 'Versicolor' 'Virginica' 'Versicolor' 'Setosa' 'Virginica' 'Versicolor'\n",
            " 'Setosa' 'Setosa' 'Setosa' 'Versicolor' 'Virginica' 'Setosa' 'Setosa'\n",
            " 'Setosa' 'Versicolor' 'Setosa' 'Versicolor' 'Virginica' 'Setosa'\n",
            " 'Versicolor' 'Virginica' 'Setosa' 'Virginica' 'Virginica' 'Versicolor'\n",
            " 'Versicolor' 'Virginica' 'Versicolor' 'Setosa' 'Versicolor' 'Virginica'\n",
            " 'Setosa' 'Setosa' 'Versicolor' 'Versicolor' 'Setosa' 'Virginica' 'Setosa'\n",
            " 'Setosa' 'Versicolor' 'Versicolor' 'Virginica' 'Versicolor' 'Virginica'\n",
            " 'Virginica' 'Versicolor' 'Setosa' 'Setosa' 'Virginica' 'Virginica'\n",
            " 'Setosa' 'Setosa' 'Setosa' 'Versicolor' 'Virginica' 'Setosa' 'Virginica'\n",
            " 'Virginica' 'Setosa' 'Versicolor' 'Versicolor' 'Virginica' 'Versicolor'\n",
            " 'Virginica' 'Setosa' 'Virginica' 'Versicolor' 'Virginica' 'Versicolor'\n",
            " 'Versicolor' 'Versicolor' 'Setosa' 'Versicolor' 'Versicolor' 'Setosa'\n",
            " 'Versicolor' 'Virginica' 'Virginica' 'Setosa' 'Versicolor' 'Virginica'\n",
            " 'Virginica' 'Setosa' 'Virginica' 'Setosa' 'Versicolor' 'Virginica'\n",
            " 'Virginica' 'Versicolor' 'Virginica' 'Versicolor' 'Versicolor'\n",
            " 'Virginica' 'Virginica' 'Setosa' 'Versicolor' 'Virginica' 'Setosa'\n",
            " 'Versicolor' 'Virginica'] \n",
            "\n",
            "np.shape(y_train) (112,) \n",
            "\n"
          ]
        }
      ]
    },
    {
      "cell_type": "code",
      "metadata": {
        "id": "cThWAAiypjm6",
        "colab": {
          "base_uri": "https://localhost:8080/"
        },
        "outputId": "366d6202-c703-4ce5-c563-50e66a01bacc"
      },
      "source": [
        "#Getting the testing data characteristics\n",
        "\n",
        "print(\"x_test: \\n\", x_test, \"\\n\")\n",
        "print(\"np.shape(x_test)\", np.shape(x_test), \"\\n\")\n",
        "print(\"y_test: \\n\", y_test, \"\\n\")\n",
        "print(\"np.shape(y_test)\", np.shape(y_test), \"\\n\")"
      ],
      "execution_count": null,
      "outputs": [
        {
          "output_type": "stream",
          "name": "stdout",
          "text": [
            "x_test: \n",
            " [['6.1' '2.8' '4.7' '1.2']\n",
            " ['5.7' '3.8' '1.7' '.3']\n",
            " ['7.7' '2.6' '6.9' '2.3']\n",
            " ['6' '2.9' '4.5' '1.5']\n",
            " ['6.8' '2.8' '4.8' '1.4']\n",
            " ['5.4' '3.4' '1.5' '.4']\n",
            " ['5.6' '2.9' '3.6' '1.3']\n",
            " ['6.9' '3.1' '5.1' '2.3']\n",
            " ['6.2' '2.2' '4.5' '1.5']\n",
            " ['5.8' '2.7' '3.9' '1.2']\n",
            " ['6.5' '3.2' '5.1' '2']\n",
            " ['4.8' '3' '1.4' '.1']\n",
            " ['5.5' '3.5' '1.3' '.2']\n",
            " ['4.9' '3.1' '1.5' '.1']\n",
            " ['5.1' '3.8' '1.5' '.3']\n",
            " ['6.3' '3.3' '4.7' '1.6']\n",
            " ['6.5' '3' '5.8' '2.2']\n",
            " ['5.6' '2.5' '3.9' '1.1']\n",
            " ['5.7' '2.8' '4.5' '1.3']\n",
            " ['6.4' '2.8' '5.6' '2.2']\n",
            " ['4.7' '3.2' '1.6' '.2']\n",
            " ['6.1' '3' '4.9' '1.8']\n",
            " ['5' '3.4' '1.6' '.4']\n",
            " ['6.4' '2.8' '5.6' '2.1']\n",
            " ['7.9' '3.8' '6.4' '2']\n",
            " ['6.7' '3' '5.2' '2.3']\n",
            " ['6.7' '2.5' '5.8' '1.8']\n",
            " ['6.8' '3.2' '5.9' '2.3']\n",
            " ['4.8' '3' '1.4' '.3']\n",
            " ['4.8' '3.1' '1.6' '.2']\n",
            " ['4.6' '3.6' '1' '.2']\n",
            " ['5.7' '4.4' '1.5' '.4']\n",
            " ['6.7' '3.1' '4.4' '1.4']\n",
            " ['4.8' '3.4' '1.6' '.2']\n",
            " ['4.4' '3.2' '1.3' '.2']\n",
            " ['6.3' '2.5' '5' '1.9']\n",
            " ['6.4' '3.2' '4.5' '1.5']\n",
            " ['5.2' '3.5' '1.5' '.2']] \n",
            "\n",
            "np.shape(x_test) (38, 4) \n",
            "\n",
            "y_test: \n",
            " ['Versicolor' 'Setosa' 'Virginica' 'Versicolor' 'Versicolor' 'Setosa'\n",
            " 'Versicolor' 'Virginica' 'Versicolor' 'Versicolor' 'Virginica' 'Setosa'\n",
            " 'Setosa' 'Setosa' 'Setosa' 'Versicolor' 'Virginica' 'Versicolor'\n",
            " 'Versicolor' 'Virginica' 'Setosa' 'Virginica' 'Setosa' 'Virginica'\n",
            " 'Virginica' 'Virginica' 'Virginica' 'Virginica' 'Setosa' 'Setosa'\n",
            " 'Setosa' 'Setosa' 'Versicolor' 'Setosa' 'Setosa' 'Virginica' 'Versicolor'\n",
            " 'Setosa'] \n",
            "\n",
            "np.shape(y_test) (38,) \n",
            "\n"
          ]
        }
      ]
    },
    {
      "cell_type": "code",
      "metadata": {
        "id": "0c9lAIySetLN"
      },
      "source": [
        "# Import MinMaxScaler module\n",
        "\n",
        "from sklearn.preprocessing import StandardScaler"
      ],
      "execution_count": null,
      "outputs": []
    },
    {
      "cell_type": "code",
      "metadata": {
        "id": "pg3fc1z-eyP2"
      },
      "source": [
        "# Scale the training and testing features\n",
        "\n",
        "scaler = StandardScaler()\n",
        "\n",
        "x_train_normalized = scaler.fit_transform(x_train)\n",
        "x_test_normalized = scaler.transform(x_test)"
      ],
      "execution_count": null,
      "outputs": []
    },
    {
      "cell_type": "code",
      "metadata": {
        "id": "iRoOssFUe-MC",
        "colab": {
          "base_uri": "https://localhost:8080/"
        },
        "outputId": "bcea575e-0b46-4f91-e56d-f7bd08485fbe"
      },
      "source": [
        "#Getting the normalized training data\n",
        "\n",
        "print(\"x_train: \\n\", x_train_normalized, \"\\n\")\n",
        "print(\"np.shape(x_train): \", np.shape(x_train_normalized), \"\\n\")"
      ],
      "execution_count": null,
      "outputs": [
        {
          "output_type": "stream",
          "name": "stdout",
          "text": [
            "x_train: \n",
            " [[-1.018  1.286 -1.393 -1.362]\n",
            " [-0.773  2.435 -1.336 -1.496]\n",
            " [-0.037 -0.782  0.748  0.921]\n",
            " [ 0.208  0.827  0.401  0.518]\n",
            " [ 1.066  0.137  0.517  0.384]\n",
            " [-0.528  1.976 -1.451 -1.094]\n",
            " [-0.528  1.516 -1.336 -1.362]\n",
            " [-0.405 -1.471 -0.062 -0.288]\n",
            " [ 0.576 -0.552  0.748  0.384]\n",
            " [ 0.699  0.137  0.98   0.787]\n",
            " [ 0.944 -0.092  0.343  0.249]\n",
            " [ 1.68   1.286  1.327  1.727]\n",
            " [-0.16  -0.322  0.227  0.115]\n",
            " [ 2.17  -0.092  1.617  1.19 ]\n",
            " [-0.282 -0.092  0.401  0.384]\n",
            " [-0.896  1.057 -1.393 -1.362]\n",
            " [ 2.293 -0.552  1.675  1.055]\n",
            " [-0.037 -0.782  0.17  -0.288]\n",
            " [-0.773  0.827 -1.393 -1.362]\n",
            " [-1.018  1.057 -1.451 -1.228]\n",
            " [-0.896  1.746 -1.104 -1.094]\n",
            " [-1.018 -2.39  -0.178 -0.288]\n",
            " [ 0.576 -0.782  0.633  0.787]\n",
            " [-1.264  0.827 -1.104 -1.362]\n",
            " [-1.018 -0.092 -1.278 -1.362]\n",
            " [-0.896  0.597 -1.22  -0.959]\n",
            " [-0.282 -0.782  0.227  0.115]\n",
            " [-0.896  0.827 -1.336 -1.362]\n",
            " [-0.16  -0.092  0.227 -0.019]\n",
            " [ 2.293  1.746  1.675  1.324]\n",
            " [-1.509  0.367 -1.393 -1.362]\n",
            " [ 0.453 -0.322  0.285  0.115]\n",
            " [-0.16  -1.241  0.69   1.055]\n",
            " [-0.405  2.665 -1.393 -1.362]\n",
            " [ 0.208 -0.092  0.575  0.787]\n",
            " [-0.037 -0.782  0.748  0.921]\n",
            " [ 0.208 -1.931  0.112 -0.288]\n",
            " [-0.528 -0.092  0.401  0.384]\n",
            " [ 0.453  0.827  0.922  1.458]\n",
            " [-0.405 -1.701  0.112  0.115]\n",
            " [-0.528  1.976 -1.22  -1.094]\n",
            " [-1.018 -1.701 -0.294 -0.288]\n",
            " [ 0.699 -0.782  0.864  0.921]\n",
            " [-1.018  0.597 -1.393 -1.362]\n",
            " [-1.018  0.367 -1.509 -1.362]\n",
            " [-0.405 -1.471 -0.004 -0.153]\n",
            " [ 1.066 -0.092  0.69   0.652]\n",
            " [-1.141  0.137 -1.336 -1.362]\n",
            " [-0.037 -0.552  0.748  1.592]\n",
            " [-1.018  0.827 -1.336 -1.362]\n",
            " [-1.018  1.057 -1.278 -0.825]\n",
            " [ 0.085  0.367  0.575  0.787]\n",
            " [-0.896 -1.241 -0.467 -0.153]\n",
            " [ 1.312  0.367  1.096  1.458]\n",
            " [ 0.208 -0.782  0.748  0.518]\n",
            " [ 0.331 -1.012  1.038  0.249]\n",
            " [ 2.293 -0.092  1.327  1.458]\n",
            " [-0.405 -1.241  0.112  0.115]\n",
            " [-1.754 -0.322 -1.393 -1.362]\n",
            " [-1.877 -0.092 -1.567 -1.496]\n",
            " [ 0.208 -1.931  0.69   0.384]\n",
            " [ 1.68   0.367  1.269  0.787]\n",
            " [-1.509  0.137 -1.336 -1.362]\n",
            " [-0.896  1.057 -1.393 -1.228]\n",
            " [-1.754 -0.092 -1.451 -1.362]\n",
            " [ 0.576 -1.241  0.633  0.384]\n",
            " [ 0.576  0.827  1.038  1.592]\n",
            " [-1.509  0.827 -1.393 -1.228]\n",
            " [ 1.189 -0.092  0.98   1.19 ]\n",
            " [ 0.576  0.597  1.269  1.727]\n",
            " [-1.386  0.367 -1.451 -1.362]\n",
            " [ 0.331 -0.322  0.517  0.249]\n",
            " [ 0.821 -0.552  0.459  0.384]\n",
            " [ 0.453 -0.552  0.575  0.787]\n",
            " [ 1.434  0.367  0.517  0.249]\n",
            " [ 0.699  0.367  0.864  1.458]\n",
            " [-0.896  1.746 -1.278 -1.362]\n",
            " [ 1.312  0.137  0.922  1.19 ]\n",
            " [ 0.085 -0.092  0.227  0.384]\n",
            " [ 0.821 -0.092  0.806  1.055]\n",
            " [-0.16  -1.012 -0.178 -0.288]\n",
            " [-0.773 -0.782  0.054  0.249]\n",
            " [ 0.331 -0.092  0.459  0.249]\n",
            " [-1.631 -1.701 -1.451 -1.228]\n",
            " [ 0.944 -0.322  0.459  0.115]\n",
            " [-0.405 -1.012  0.343 -0.019]\n",
            " [-0.65   1.516 -1.336 -1.362]\n",
            " [-0.282 -0.092  0.17   0.115]\n",
            " [ 1.802 -0.322  1.443  0.787]\n",
            " [ 1.066  0.597  1.096  1.19 ]\n",
            " [-0.896  1.516 -1.336 -1.094]\n",
            " [-1.141 -1.471 -0.294 -0.288]\n",
            " [ 1.066  0.597  1.096  1.727]\n",
            " [ 1.68  -0.092  1.154  0.518]\n",
            " [-1.141  1.286 -1.393 -1.496]\n",
            " [ 1.066  0.137  1.038  1.592]\n",
            " [-1.141 -0.092 -1.393 -1.362]\n",
            " [ 1.312  0.137  0.633  0.384]\n",
            " [ 1.925 -0.552  1.327  0.921]\n",
            " [ 0.576 -0.322  1.038  0.787]\n",
            " [-0.16  -0.552  0.17   0.115]\n",
            " [ 0.821 -0.092  0.98   0.787]\n",
            " [ 0.576 -1.701  0.343  0.115]\n",
            " [ 0.699 -0.322  0.285  0.115]\n",
            " [-0.282 -0.552  0.633  1.055]\n",
            " [ 0.085 -0.092  0.748  0.787]\n",
            " [-0.528  0.827 -1.22  -1.362]\n",
            " [ 0.331 -0.552  0.112  0.115]\n",
            " [-1.141 -1.241  0.401  0.652]\n",
            " [-0.037  2.206 -1.509 -1.362]\n",
            " [-0.037 -1.012  0.112 -0.019]\n",
            " [ 1.557 -0.092  1.211  1.19 ]] \n",
            "\n",
            "np.shape(x_train):  (112, 4) \n",
            "\n"
          ]
        }
      ]
    },
    {
      "cell_type": "code",
      "metadata": {
        "id": "nlLALYnrfHCI",
        "colab": {
          "base_uri": "https://localhost:8080/"
        },
        "outputId": "94ef33ca-028c-48bf-8d9c-437570bf76d8"
      },
      "source": [
        "#Getting the normalized test data\n",
        "\n",
        "print(\"x_test_normalized: \\n\", x_test_normalized, \"\\n\")\n",
        "print(\"np.shape(x_test_normalized): \", np.shape(x_test_normalized), \"\\n\")"
      ],
      "execution_count": null,
      "outputs": [
        {
          "output_type": "stream",
          "name": "stdout",
          "text": [
            "x_test_normalized: \n",
            " [[ 0.331 -0.552  0.517 -0.019]\n",
            " [-0.16   1.746 -1.22  -1.228]\n",
            " [ 2.293 -1.012  1.79   1.458]\n",
            " [ 0.208 -0.322  0.401  0.384]\n",
            " [ 1.189 -0.552  0.575  0.249]\n",
            " [-0.528  0.827 -1.336 -1.094]\n",
            " [-0.282 -0.322 -0.12   0.115]\n",
            " [ 1.312  0.137  0.748  1.458]\n",
            " [ 0.453 -1.931  0.401  0.384]\n",
            " [-0.037 -0.782  0.054 -0.019]\n",
            " [ 0.821  0.367  0.748  1.055]\n",
            " [-1.264 -0.092 -1.393 -1.496]\n",
            " [-0.405  1.057 -1.451 -1.362]\n",
            " [-1.141  0.137 -1.336 -1.496]\n",
            " [-0.896  1.746 -1.336 -1.228]\n",
            " [ 0.576  0.597  0.517  0.518]\n",
            " [ 0.821 -0.092  1.154  1.324]\n",
            " [-0.282 -1.241  0.054 -0.153]\n",
            " [-0.16  -0.552  0.401  0.115]\n",
            " [ 0.699 -0.552  1.038  1.324]\n",
            " [-1.386  0.367 -1.278 -1.362]\n",
            " [ 0.331 -0.092  0.633  0.787]\n",
            " [-1.018  0.827 -1.278 -1.094]\n",
            " [ 0.699 -0.552  1.038  1.19 ]\n",
            " [ 2.538  1.746  1.501  1.055]\n",
            " [ 1.066 -0.092  0.806  1.458]\n",
            " [ 1.066 -1.241  1.154  0.787]\n",
            " [ 1.189  0.367  1.211  1.458]\n",
            " [-1.264 -0.092 -1.393 -1.228]\n",
            " [-1.264  0.137 -1.278 -1.362]\n",
            " [-1.509  1.286 -1.625 -1.362]\n",
            " [-0.16   3.125 -1.336 -1.094]\n",
            " [ 1.066  0.137  0.343  0.249]\n",
            " [-1.264  0.827 -1.278 -1.362]\n",
            " [-1.754  0.367 -1.451 -1.362]\n",
            " [ 0.576 -1.241  0.69   0.921]\n",
            " [ 0.699  0.367  0.401  0.384]\n",
            " [-0.773  1.057 -1.336 -1.362]] \n",
            "\n",
            "np.shape(x_test_normalized):  (38, 4) \n",
            "\n"
          ]
        }
      ]
    },
    {
      "cell_type": "code",
      "metadata": {
        "id": "hN3-Iz5wojL8",
        "colab": {
          "base_uri": "https://localhost:8080/"
        },
        "outputId": "26daa397-9639-440a-ec1c-90fd7335354f"
      },
      "source": [
        "# Defining our Support Vector Machine (SVM) classifier\n",
        "\n",
        "from sklearn.svm import SVC\n",
        "svm_classifier = SVC(C=5.0, kernel = 'sigmoid')\n",
        "print(\"SVM Classifier: \\n\", svm_classifier,\"\\n\")"
      ],
      "execution_count": null,
      "outputs": [
        {
          "output_type": "stream",
          "name": "stdout",
          "text": [
            "SVM Classifier: \n",
            " SVC(C=5.0, kernel='sigmoid') \n",
            "\n"
          ]
        }
      ]
    },
    {
      "cell_type": "code",
      "metadata": {
        "id": "J5r7dpQNpyMD",
        "colab": {
          "base_uri": "https://localhost:8080/"
        },
        "outputId": "a84e85f5-cd6b-4910-a592-9364268c9dc2"
      },
      "source": [
        "#Training our classifier\n",
        "\n",
        "svm_classifier.fit(x_train_normalized, y_train)"
      ],
      "execution_count": null,
      "outputs": [
        {
          "output_type": "execute_result",
          "data": {
            "text/plain": [
              "SVC(C=5.0, kernel='sigmoid')"
            ]
          },
          "metadata": {},
          "execution_count": 15
        }
      ]
    },
    {
      "cell_type": "code",
      "metadata": {
        "id": "e9HuXcfjqHXu",
        "colab": {
          "base_uri": "https://localhost:8080/"
        },
        "outputId": "01bd9a20-d6de-4c64-80cb-e88432c047e5"
      },
      "source": [
        "#Getting the classifier arguments\n",
        "\n",
        "print(\"Printing the support vectors \\n\\n\", svm_classifier.support_vectors_, \"\\n\")\n",
        "print(\"Number of support vectors: \", np.shape(svm_classifier.support_vectors_)[0], \"\\n\")\n",
        "\n",
        "print(\"Number of support vectors for each class: \", svm_classifier.n_support_)\n",
        "print(\"Intercept values: \", svm_classifier.intercept_)"
      ],
      "execution_count": null,
      "outputs": [
        {
          "output_type": "stream",
          "name": "stdout",
          "text": [
            "Printing the support vectors \n",
            "\n",
            " [[-1.754 -0.322 -1.393 -1.362]\n",
            " [-1.631 -1.701 -1.451 -1.228]\n",
            " [ 0.208  0.827  0.401  0.518]\n",
            " [ 1.066  0.137  0.517  0.384]\n",
            " [ 0.944 -0.092  0.343  0.249]\n",
            " [ 1.066 -0.092  0.69   0.652]\n",
            " [ 0.085  0.367  0.575  0.787]\n",
            " [-0.896 -1.241 -0.467 -0.153]\n",
            " [ 0.208 -0.782  0.748  0.518]\n",
            " [ 0.576 -1.241  0.633  0.384]\n",
            " [ 0.821 -0.552  0.459  0.384]\n",
            " [ 1.434  0.367  0.517  0.249]\n",
            " [ 0.944 -0.322  0.459  0.115]\n",
            " [-1.141 -1.471 -0.294 -0.288]\n",
            " [ 1.312  0.137  0.633  0.384]\n",
            " [ 1.68   1.286  1.327  1.727]\n",
            " [ 2.17  -0.092  1.617  1.19 ]\n",
            " [ 2.293 -0.552  1.675  1.055]\n",
            " [ 2.293  1.746  1.675  1.324]\n",
            " [ 2.293 -0.092  1.327  1.458]\n",
            " [ 0.208 -1.931  0.69   0.384]\n",
            " [ 1.68   0.367  1.269  0.787]\n",
            " [ 1.802 -0.322  1.443  0.787]\n",
            " [ 1.925 -0.552  1.327  0.921]\n",
            " [-0.282 -0.552  0.633  1.055]\n",
            " [-1.141 -1.241  0.401  0.652]] \n",
            "\n",
            "Number of support vectors:  26 \n",
            "\n",
            "Number of support vectors for each class:  [ 2 13 11]\n",
            "Intercept values:  [-1.884 -0.533  9.396]\n"
          ]
        }
      ]
    },
    {
      "cell_type": "code",
      "metadata": {
        "id": "G2rPP1V6fiB5",
        "colab": {
          "base_uri": "https://localhost:8080/"
        },
        "outputId": "4232fdf2-1364-4ec5-8123-d82626ac4c31"
      },
      "source": [
        "# Getting the predictions on the train data\n",
        "\n",
        "svm_train_predictions = svm_classifier.predict(x_train_normalized)\n",
        "print(\"Predictions: \\n\", svm_train_predictions)"
      ],
      "execution_count": null,
      "outputs": [
        {
          "output_type": "stream",
          "name": "stdout",
          "text": [
            "Predictions: \n",
            " ['Setosa' 'Setosa' 'Virginica' 'Versicolor' 'Virginica' 'Setosa' 'Setosa'\n",
            " 'Versicolor' 'Virginica' 'Virginica' 'Virginica' 'Versicolor'\n",
            " 'Versicolor' 'Versicolor' 'Versicolor' 'Setosa' 'Versicolor' 'Versicolor'\n",
            " 'Setosa' 'Setosa' 'Setosa' 'Versicolor' 'Virginica' 'Setosa' 'Setosa'\n",
            " 'Setosa' 'Versicolor' 'Setosa' 'Versicolor' 'Versicolor' 'Setosa'\n",
            " 'Versicolor' 'Virginica' 'Setosa' 'Virginica' 'Virginica' 'Versicolor'\n",
            " 'Versicolor' 'Virginica' 'Versicolor' 'Setosa' 'Versicolor' 'Virginica'\n",
            " 'Setosa' 'Setosa' 'Versicolor' 'Virginica' 'Setosa' 'Virginica' 'Setosa'\n",
            " 'Setosa' 'Virginica' 'Versicolor' 'Virginica' 'Virginica' 'Virginica'\n",
            " 'Versicolor' 'Versicolor' 'Setosa' 'Setosa' 'Versicolor' 'Virginica'\n",
            " 'Setosa' 'Setosa' 'Setosa' 'Virginica' 'Virginica' 'Setosa' 'Virginica'\n",
            " 'Virginica' 'Setosa' 'Versicolor' 'Virginica' 'Virginica' 'Virginica'\n",
            " 'Virginica' 'Setosa' 'Virginica' 'Versicolor' 'Virginica' 'Versicolor'\n",
            " 'Versicolor' 'Versicolor' 'Versicolor' 'Virginica' 'Versicolor' 'Setosa'\n",
            " 'Versicolor' 'Virginica' 'Virginica' 'Setosa' 'Versicolor' 'Virginica'\n",
            " 'Virginica' 'Setosa' 'Virginica' 'Setosa' 'Virginica' 'Virginica'\n",
            " 'Virginica' 'Versicolor' 'Virginica' 'Versicolor' 'Versicolor'\n",
            " 'Virginica' 'Virginica' 'Setosa' 'Versicolor' 'Versicolor' 'Setosa'\n",
            " 'Versicolor' 'Virginica']\n"
          ]
        }
      ]
    },
    {
      "cell_type": "code",
      "metadata": {
        "id": "xcKY1AnRfuqE",
        "colab": {
          "base_uri": "https://localhost:8080/"
        },
        "outputId": "e7877a22-66c5-4b2c-cf04-8967a4d7f719"
      },
      "source": [
        "#Comparing the predictions with the ground truth on training data\n",
        "\n",
        "print(\"Predictions \\t Ground Truth: \\n\\n\", np.column_stack((svm_train_predictions, y_train)))"
      ],
      "execution_count": null,
      "outputs": [
        {
          "output_type": "stream",
          "name": "stdout",
          "text": [
            "Predictions \t Ground Truth: \n",
            "\n",
            " [['Setosa' 'Setosa']\n",
            " ['Setosa' 'Setosa']\n",
            " ['Virginica' 'Virginica']\n",
            " ['Versicolor' 'Versicolor']\n",
            " ['Virginica' 'Versicolor']\n",
            " ['Setosa' 'Setosa']\n",
            " ['Setosa' 'Setosa']\n",
            " ['Versicolor' 'Versicolor']\n",
            " ['Virginica' 'Virginica']\n",
            " ['Virginica' 'Virginica']\n",
            " ['Virginica' 'Versicolor']\n",
            " ['Versicolor' 'Virginica']\n",
            " ['Versicolor' 'Versicolor']\n",
            " ['Versicolor' 'Virginica']\n",
            " ['Versicolor' 'Versicolor']\n",
            " ['Setosa' 'Setosa']\n",
            " ['Versicolor' 'Virginica']\n",
            " ['Versicolor' 'Versicolor']\n",
            " ['Setosa' 'Setosa']\n",
            " ['Setosa' 'Setosa']\n",
            " ['Setosa' 'Setosa']\n",
            " ['Versicolor' 'Versicolor']\n",
            " ['Virginica' 'Virginica']\n",
            " ['Setosa' 'Setosa']\n",
            " ['Setosa' 'Setosa']\n",
            " ['Setosa' 'Setosa']\n",
            " ['Versicolor' 'Versicolor']\n",
            " ['Setosa' 'Setosa']\n",
            " ['Versicolor' 'Versicolor']\n",
            " ['Versicolor' 'Virginica']\n",
            " ['Setosa' 'Setosa']\n",
            " ['Versicolor' 'Versicolor']\n",
            " ['Virginica' 'Virginica']\n",
            " ['Setosa' 'Setosa']\n",
            " ['Virginica' 'Virginica']\n",
            " ['Virginica' 'Virginica']\n",
            " ['Versicolor' 'Versicolor']\n",
            " ['Versicolor' 'Versicolor']\n",
            " ['Virginica' 'Virginica']\n",
            " ['Versicolor' 'Versicolor']\n",
            " ['Setosa' 'Setosa']\n",
            " ['Versicolor' 'Versicolor']\n",
            " ['Virginica' 'Virginica']\n",
            " ['Setosa' 'Setosa']\n",
            " ['Setosa' 'Setosa']\n",
            " ['Versicolor' 'Versicolor']\n",
            " ['Virginica' 'Versicolor']\n",
            " ['Setosa' 'Setosa']\n",
            " ['Virginica' 'Virginica']\n",
            " ['Setosa' 'Setosa']\n",
            " ['Setosa' 'Setosa']\n",
            " ['Virginica' 'Versicolor']\n",
            " ['Versicolor' 'Versicolor']\n",
            " ['Virginica' 'Virginica']\n",
            " ['Virginica' 'Versicolor']\n",
            " ['Virginica' 'Virginica']\n",
            " ['Versicolor' 'Virginica']\n",
            " ['Versicolor' 'Versicolor']\n",
            " ['Setosa' 'Setosa']\n",
            " ['Setosa' 'Setosa']\n",
            " ['Versicolor' 'Virginica']\n",
            " ['Virginica' 'Virginica']\n",
            " ['Setosa' 'Setosa']\n",
            " ['Setosa' 'Setosa']\n",
            " ['Setosa' 'Setosa']\n",
            " ['Virginica' 'Versicolor']\n",
            " ['Virginica' 'Virginica']\n",
            " ['Setosa' 'Setosa']\n",
            " ['Virginica' 'Virginica']\n",
            " ['Virginica' 'Virginica']\n",
            " ['Setosa' 'Setosa']\n",
            " ['Versicolor' 'Versicolor']\n",
            " ['Virginica' 'Versicolor']\n",
            " ['Virginica' 'Virginica']\n",
            " ['Virginica' 'Versicolor']\n",
            " ['Virginica' 'Virginica']\n",
            " ['Setosa' 'Setosa']\n",
            " ['Virginica' 'Virginica']\n",
            " ['Versicolor' 'Versicolor']\n",
            " ['Virginica' 'Virginica']\n",
            " ['Versicolor' 'Versicolor']\n",
            " ['Versicolor' 'Versicolor']\n",
            " ['Versicolor' 'Versicolor']\n",
            " ['Versicolor' 'Setosa']\n",
            " ['Virginica' 'Versicolor']\n",
            " ['Versicolor' 'Versicolor']\n",
            " ['Setosa' 'Setosa']\n",
            " ['Versicolor' 'Versicolor']\n",
            " ['Virginica' 'Virginica']\n",
            " ['Virginica' 'Virginica']\n",
            " ['Setosa' 'Setosa']\n",
            " ['Versicolor' 'Versicolor']\n",
            " ['Virginica' 'Virginica']\n",
            " ['Virginica' 'Virginica']\n",
            " ['Setosa' 'Setosa']\n",
            " ['Virginica' 'Virginica']\n",
            " ['Setosa' 'Setosa']\n",
            " ['Virginica' 'Versicolor']\n",
            " ['Virginica' 'Virginica']\n",
            " ['Virginica' 'Virginica']\n",
            " ['Versicolor' 'Versicolor']\n",
            " ['Virginica' 'Virginica']\n",
            " ['Versicolor' 'Versicolor']\n",
            " ['Versicolor' 'Versicolor']\n",
            " ['Virginica' 'Virginica']\n",
            " ['Virginica' 'Virginica']\n",
            " ['Setosa' 'Setosa']\n",
            " ['Versicolor' 'Versicolor']\n",
            " ['Versicolor' 'Virginica']\n",
            " ['Setosa' 'Setosa']\n",
            " ['Versicolor' 'Versicolor']\n",
            " ['Virginica' 'Virginica']]\n"
          ]
        }
      ]
    },
    {
      "cell_type": "code",
      "metadata": {
        "id": "XYyuuZmcf5kt",
        "colab": {
          "base_uri": "https://localhost:8080/"
        },
        "outputId": "d8123ac3-76bb-4f31-aad1-94e11e8af2e0"
      },
      "source": [
        "#Quantifying the performance of the model on the test data\n",
        "\n",
        "training_accuracy = svm_classifier.score(x_train_normalized, y_train)\n",
        "print(\"Classifier Accuracy:: \", training_accuracy*100, \"\\n\")"
      ],
      "execution_count": null,
      "outputs": [
        {
          "output_type": "stream",
          "name": "stdout",
          "text": [
            "Classifier Accuracy::  83.92857142857143 \n",
            "\n"
          ]
        }
      ]
    },
    {
      "cell_type": "code",
      "metadata": {
        "id": "64a_d7CBgD5X",
        "colab": {
          "base_uri": "https://localhost:8080/",
          "height": 393
        },
        "outputId": "0c174930-6a6a-46a6-da57-ab73d5b9422c"
      },
      "source": [
        "#Getting the confusion matrix for the predictions\n",
        "\n",
        "from sklearn.metrics import confusion_matrix\n",
        "train_cm = confusion_matrix(y_train, svm_train_predictions)\n",
        "\n",
        "print(\"Confusion Matrix: \\n\\n\", train_cm, \"\\n\")\n",
        "\n",
        "import seaborn as sn\n",
        "sn.heatmap(train_cm, annot=True,cmap=\"OrRd\")"
      ],
      "execution_count": null,
      "outputs": [
        {
          "output_type": "stream",
          "name": "stdout",
          "text": [
            "Confusion Matrix: \n",
            "\n",
            " [[34  1  0]\n",
            " [ 0 29 10]\n",
            " [ 0  7 31]] \n",
            "\n"
          ]
        },
        {
          "output_type": "execute_result",
          "data": {
            "text/plain": [
              "<matplotlib.axes._subplots.AxesSubplot at 0x7f84dfbaa990>"
            ]
          },
          "metadata": {},
          "execution_count": 20
        },
        {
          "output_type": "display_data",
          "data": {
            "text/plain": [
              "<Figure size 432x288 with 2 Axes>"
            ],
            "image/png": "[encoded data removed]"
          },
          "metadata": {
            "needs_background": "light"
          }
        }
      ]
    },
    {
      "cell_type": "code",
      "metadata": {
        "id": "RHxS5zerqDBa",
        "colab": {
          "base_uri": "https://localhost:8080/"
        },
        "outputId": "75c236a1-9ee0-4cb7-d7f3-d9993c0d0256"
      },
      "source": [
        "#Making predictions using the SVM model\n",
        "\n",
        "svm_test_predictions = svm_classifier.predict(x_test_normalized)\n",
        "print(\"Predictions: \\n\", svm_test_predictions)"
      ],
      "execution_count": null,
      "outputs": [
        {
          "output_type": "stream",
          "name": "stdout",
          "text": [
            "Predictions: \n",
            " ['Versicolor' 'Setosa' 'Versicolor' 'Versicolor' 'Virginica' 'Setosa'\n",
            " 'Versicolor' 'Virginica' 'Versicolor' 'Versicolor' 'Virginica' 'Setosa'\n",
            " 'Setosa' 'Setosa' 'Setosa' 'Virginica' 'Virginica' 'Versicolor'\n",
            " 'Versicolor' 'Virginica' 'Setosa' 'Virginica' 'Setosa' 'Virginica'\n",
            " 'Versicolor' 'Virginica' 'Virginica' 'Virginica' 'Setosa' 'Setosa'\n",
            " 'Setosa' 'Setosa' 'Virginica' 'Setosa' 'Setosa' 'Virginica' 'Virginica'\n",
            " 'Setosa']\n"
          ]
        }
      ]
    },
    {
      "cell_type": "code",
      "metadata": {
        "id": "R_HRlASGrnZv",
        "colab": {
          "base_uri": "https://localhost:8080/"
        },
        "outputId": "634b95ce-b3fd-493c-e04f-358878ea6cfa"
      },
      "source": [
        "#Comparing the predictions with the ground truth\n",
        "\n",
        "print(\"Predictions \\t Ground Truth: \\n\\n\", np.column_stack((svm_test_predictions, y_test)))"
      ],
      "execution_count": null,
      "outputs": [
        {
          "output_type": "stream",
          "name": "stdout",
          "text": [
            "Predictions \t Ground Truth: \n",
            "\n",
            " [['Versicolor' 'Versicolor']\n",
            " ['Setosa' 'Setosa']\n",
            " ['Versicolor' 'Virginica']\n",
            " ['Versicolor' 'Versicolor']\n",
            " ['Virginica' 'Versicolor']\n",
            " ['Setosa' 'Setosa']\n",
            " ['Versicolor' 'Versicolor']\n",
            " ['Virginica' 'Virginica']\n",
            " ['Versicolor' 'Versicolor']\n",
            " ['Versicolor' 'Versicolor']\n",
            " ['Virginica' 'Virginica']\n",
            " ['Setosa' 'Setosa']\n",
            " ['Setosa' 'Setosa']\n",
            " ['Setosa' 'Setosa']\n",
            " ['Setosa' 'Setosa']\n",
            " ['Virginica' 'Versicolor']\n",
            " ['Virginica' 'Virginica']\n",
            " ['Versicolor' 'Versicolor']\n",
            " ['Versicolor' 'Versicolor']\n",
            " ['Virginica' 'Virginica']\n",
            " ['Setosa' 'Setosa']\n",
            " ['Virginica' 'Virginica']\n",
            " ['Setosa' 'Setosa']\n",
            " ['Virginica' 'Virginica']\n",
            " ['Versicolor' 'Virginica']\n",
            " ['Virginica' 'Virginica']\n",
            " ['Virginica' 'Virginica']\n",
            " ['Virginica' 'Virginica']\n",
            " ['Setosa' 'Setosa']\n",
            " ['Setosa' 'Setosa']\n",
            " ['Setosa' 'Setosa']\n",
            " ['Setosa' 'Setosa']\n",
            " ['Virginica' 'Versicolor']\n",
            " ['Setosa' 'Setosa']\n",
            " ['Setosa' 'Setosa']\n",
            " ['Virginica' 'Virginica']\n",
            " ['Virginica' 'Versicolor']\n",
            " ['Setosa' 'Setosa']]\n"
          ]
        }
      ]
    },
    {
      "cell_type": "code",
      "metadata": {
        "id": "pGa5UCfOrk3x",
        "colab": {
          "base_uri": "https://localhost:8080/"
        },
        "outputId": "2ab88e44-b90d-478f-dde2-bae6a8e300ed"
      },
      "source": [
        "#Quantifying the performance of the model on the test data\n",
        "\n",
        "test_accuracy = svm_classifier.score(x_test_normalized, y_test)\n",
        "print(\"Classifier Accuracy:: \", test_accuracy*100, \"\\n\")"
      ],
      "execution_count": null,
      "outputs": [
        {
          "output_type": "stream",
          "name": "stdout",
          "text": [
            "Classifier Accuracy::  84.21052631578947 \n",
            "\n"
          ]
        }
      ]
    },
    {
      "cell_type": "code",
      "metadata": {
        "id": "fpeBfoV0sLa-",
        "colab": {
          "base_uri": "https://localhost:8080/",
          "height": 393
        },
        "outputId": "0f8986c4-f99b-4820-dd61-f07ab9aac240"
      },
      "source": [
        "#Getting the confusion matrix for the predictions\n",
        "\n",
        "from sklearn.metrics import confusion_matrix\n",
        "test_cm = confusion_matrix(y_test, svm_test_predictions)\n",
        "\n",
        "print(\"Confusion Matrix: \\n\\n\", test_cm, \"\\n\")\n",
        "\n",
        "import seaborn as sn\n",
        "sn.heatmap(test_cm, annot=True,cmap=\"OrRd\")"
      ],
      "execution_count": null,
      "outputs": [
        {
          "output_type": "stream",
          "name": "stdout",
          "text": [
            "Confusion Matrix: \n",
            "\n",
            " [[15  0  0]\n",
            " [ 0  7  4]\n",
            " [ 0  2 10]] \n",
            "\n"
          ]
        },
        {
          "output_type": "execute_result",
          "data": {
            "text/plain": [
              "<matplotlib.axes._subplots.AxesSubplot at 0x7f84ccd70cd0>"
            ]
          },
          "metadata": {},
          "execution_count": 24
        },
        {
          "output_type": "display_data",
          "data": {
            "text/plain": [
              "<Figure size 432x288 with 2 Axes>"
            ],
            "image/png": "[encoded data removed]"
          },
          "metadata": {
            "needs_background": "light"
          }
        }
      ]
    },
    {
      "cell_type": "code",
      "metadata": {
        "id": "pqUZSdgSd2zd"
      },
      "source": [
        "from sklearn.metrics import classification_report"
      ],
      "execution_count": null,
      "outputs": []
    },
    {
      "cell_type": "code",
      "source": [
        "print(classification_report(y_test,svm_test_predictions))"
      ],
      "metadata": {
        "colab": {
          "base_uri": "https://localhost:8080/"
        },
        "id": "7fLuefT-qhqg",
        "outputId": "d8519fbd-3e1d-41d2-bab2-aa39b3c740c1"
      },
      "execution_count": null,
      "outputs": [
        {
          "output_type": "stream",
          "name": "stdout",
          "text": [
            "              precision    recall  f1-score   support\n",
            "\n",
            "      Setosa       1.00      1.00      1.00        15\n",
            "  Versicolor       0.78      0.64      0.70        11\n",
            "   Virginica       0.71      0.83      0.77        12\n",
            "\n",
            "    accuracy                           0.84        38\n",
            "   macro avg       0.83      0.82      0.82        38\n",
            "weighted avg       0.85      0.84      0.84        38\n",
            "\n"
          ]
        }
      ]
    }
  ]
}